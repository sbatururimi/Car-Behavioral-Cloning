{
 "cells": [
  {
   "cell_type": "markdown",
   "metadata": {},
   "source": [
    "# Read data"
   ]
  },
  {
   "cell_type": "code",
   "execution_count": 8,
   "metadata": {
    "collapsed": true
   },
   "outputs": [],
   "source": [
    "import csv\n",
    "import numpy as np\n",
    "import cv2\n",
    "import tensorflow as tf"
   ]
  },
  {
   "cell_type": "code",
   "execution_count": 9,
   "metadata": {},
   "outputs": [
    {
     "name": "stdout",
     "output_type": "stream",
     "text": [
      "TensorFlow Version: 1.0.0\n"
     ]
    },
    {
     "name": "stderr",
     "output_type": "stream",
     "text": [
      "/Users/virt/anaconda3/envs/autonomous-car/lib/python3.5/site-packages/ipykernel_launcher.py:5: UserWarning: No GPU found. You can drastically improve your network training by using a GPU.\n",
      "  \"\"\"\n"
     ]
    }
   ],
   "source": [
    "import warnings\n",
    "print('TensorFlow Version: {}'.format(tf.__version__))\n",
    "# Check for a GPU\n",
    "if not tf.test.gpu_device_name():\n",
    "    warnings.warn('No GPU found. You can drastically improve your network training by using a GPU.')\n",
    "else:\n",
    "    print('Default GPU Device: {}'.format(tf.test.gpu_device_name()))"
   ]
  },
  {
   "cell_type": "code",
   "execution_count": 3,
   "metadata": {
    "collapsed": true
   },
   "outputs": [],
   "source": [
    "\n",
    "lines =[]\n",
    "# with open(\"../data-car-behavioral/driving_log.csv\") as csvfile:\n",
    "#     reader = csv.reader(csvfile)\n",
    "#     for line in reader:\n",
    "#     \tlines.append(line)\n",
    "\n",
    "# images = []\n",
    "# measurements = []\n",
    "# for line in lines:\n",
    "# \tsource_path = line[0]\n",
    "# \tfilename = source_path.split('/')[-1]\n",
    "# \tcurrent_path = '../data-car-behavioral/IMG/' + filename\n",
    "# \timage = cv2.imread(current_path)\n",
    "# \timages.append(image)\n",
    "# \t# fleeping images & steering measurements\n",
    "# \tmeasurement = float(line[3])\n",
    "# \tmeasurements.append(measurement)\n",
    "\n",
    "# X_train = np.array(images)\n",
    "# y_train = np.array(measurements)\n",
    "\n",
    "# images = []\n",
    "# measurements = []\n",
    "# for line in lines:\n",
    "# \tsource_path = line[0]\n",
    "# \tfilename = source_path.split('/')[-1]\n",
    "# \tcurrent_path = '../data-car-behavioral/IMG/' + filename\n",
    "# \timage = cv2.imread(current_path)\n",
    "# \timages.append(image)\n",
    "# \t# fleeping images & steering measurements\n",
    "# \tmeasurement = float(line[3])\n",
    "# \tmeasurements.append(measurement)\n",
    "\n",
    "# # data augmentation\n",
    "# augmented_images, augmented_measurements = [], []\n",
    "# for image, measurement in zip(images, measurements):\n",
    "# \taugmented_images.append(image)\n",
    "# \taugmented_measurements.append(measurement)\n",
    "\n",
    "# \taugmented_images.append(cv2.flip(image, 1))\n",
    "# \taugmented_measurements.append(measurement * -1.0)\n",
    "\n",
    "# X_train = np.array(augmented_images)\n",
    "# y_train = np.array(augmented_measurements)\n",
    "\n",
    "car_images = []\n",
    "steering_angles = []\n",
    "with open(\"../data-car-behavioral/driving_log.csv\") as csvfile:\n",
    "    reader = csv.reader(csvfile)\n",
    "    for line in reader:\n",
    "        # lines.append(line)\n",
    "        steering_center = float(line[3])\n",
    "\n",
    "        # create adjusted steering measurements for the side camera images\n",
    "        correction = steering_center * 0.1 # 10%\n",
    "        steering_left = steering_center + correction\n",
    "        steering_right = steering_center - correction\n",
    "\n",
    "        # read in images from center, left and right cameras\n",
    "        for i in range(3):\n",
    "            source_path = line[i]\n",
    "            filename = source_path.split('/')[-1]\n",
    "            current_path = '../data-car-behavioral/IMG/' + filename\n",
    "            image = cv2.imread(current_path)\n",
    "            # add images to data set\n",
    "            car_images.append(image)\n",
    "\n",
    "        # add angles to data set\t    \t\n",
    "        steering_angles.extend([steering_center, steering_left, steering_right])"
   ]
  },
  {
   "cell_type": "markdown",
   "metadata": {},
   "source": [
    "# Data augmentation"
   ]
  },
  {
   "cell_type": "code",
   "execution_count": 4,
   "metadata": {},
   "outputs": [],
   "source": [
    "# data augmentation\n",
    "augmented_images, augmented_measurements = [], []\n",
    "for image, measurement in zip(car_images, steering_angles):\n",
    "    augmented_images.append(image)\n",
    "    augmented_measurements.append(measurement)\n",
    "\n",
    "    augmented_images.append(cv2.flip(image, 1))\n",
    "    augmented_measurements.append(measurement * -1.0)"
   ]
  },
  {
   "cell_type": "markdown",
   "metadata": {},
   "source": [
    "# Train"
   ]
  },
  {
   "cell_type": "code",
   "execution_count": 5,
   "metadata": {
    "collapsed": true
   },
   "outputs": [],
   "source": [
    "X_train = np.array(augmented_images)\n",
    "y_train = np.array(augmented_measurements)"
   ]
  },
  {
   "cell_type": "code",
   "execution_count": null,
   "metadata": {
    "collapsed": true
   },
   "outputs": [],
   "source": [
    "from keras.models import Sequential\n",
    "from keras.layers import Flatten, Dense, Lambda, Conv2D, Cropping2D\n",
    "# from keras.layers.convolutional import Convolution2D\n",
    "from keras.layers.pooling import MaxPooling2D\n",
    "\n",
    "# LeNet\n",
    "model = Sequential()\n",
    "model.add(Lambda(lambda x: (x / 255.0) - 0.5, input_shape=(160,320,3)))\n",
    "model.add(Cropping2D(cropping=((70, 25), (0, 0))))\n",
    "model.add(Conv2D(6, (5, 5), activation='relu'))\n",
    "model.add(MaxPooling2D())\n",
    "model.add(Conv2D(6, (5, 5), activation='relu'))\n",
    "model.add(MaxPooling2D())\n",
    "model.add(Flatten())\n",
    "model.add(Dense(120))\n",
    "model.add(Dense(84))\n",
    "model.add(Dense(1))\n",
    "\n",
    "model.compile(loss='mse', optimizer='adam')\n",
    "model.fit(X_train, y_train, validation_split=0.2, shuffle=True, epochs=5)\n",
    "\n",
    "model.save('model.h5')"
   ]
  }
 ],
 "metadata": {
  "kernelspec": {
   "display_name": "Python 3",
   "language": "python",
   "name": "python3"
  },
  "language_info": {
   "codemirror_mode": {
    "name": "ipython",
    "version": 3
   },
   "file_extension": ".py",
   "mimetype": "text/x-python",
   "name": "python",
   "nbconvert_exporter": "python",
   "pygments_lexer": "ipython3",
   "version": "3.5.4"
  }
 },
 "nbformat": 4,
 "nbformat_minor": 2
}
